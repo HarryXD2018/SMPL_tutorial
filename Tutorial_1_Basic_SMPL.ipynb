{
 "cells": [
  {
   "cell_type": "markdown",
   "source": [
    "# Tutorial 1: Basic SMPL-X\n",
    "\n",
    "Author: [Hejia Chen](http://harryxd2018.github.io), BUAA\n",
    "\n",
    "In this notebook, we will explore the basic implementation of SMPL-X model.\n",
    "\n",
    "## Definitions\n",
    "\n",
    "Briefly, SMPL, FLAME and MANO are statistical model for human body, face and hands. Based on which, the SMPL+H and SMPL-X are proposed, as:\n",
    "\n",
    "- SMPL+H: SMPL with articulated hands,\n",
    "- SMPL-X: SMPL with hands and facial expression.\n",
    "\n",
    "We strongly recommend you to read the [SMPL](https://smpl.is.tue.mpg.de/), [FLAME](http://flame.is.tue.mpg.de/) website and papers for more details.\n",
    "\n",
    "## Requirements\n",
    "To run this tutorial, you need to install the following packages:\n",
    "```bash\n",
    "pip install torch, smplx\n",
    "```\n",
    "Note that the smplx package is not necessary for this notebook, but it is required for the following tutorials.\n",
    "\n",
    "## Download the models\n",
    "Please download the SMPL-family models in `.pkl` files from official websites ([SMPL](https://smpl.is.tue.mpg.de/), [SMPL+H](http://mano.is.tue.mpg.de/), [SMPL-X](https://smplx.is.tue.mpg.de/)) after registering. Then, put the models under the `models` folder, as:"
   ],
   "metadata": {
    "collapsed": false
   }
  },
  {
   "cell_type": "code",
   "execution_count": 1,
   "outputs": [
    {
     "name": "stdout",
     "output_type": "stream",
     "text": [
      "卷 Data 的文件夹 PATH 列表\n",
      "卷序列号为 7648-753B\n",
      "D:\\CODES\\SMPL\\MODELS\n",
      "├─mano\n",
      "│      MANO_LEFT.pkl\n",
      "│      MANO_RIGHT.pkl\n",
      "│      \n",
      "├─smpl\n",
      "│      SMPL_FEMALE.pkl\n",
      "│      SMPL_MALE.pkl\n",
      "│      SMPL_NEUTRAL.pkl\n",
      "│      \n",
      "├─smplh\n",
      "│      SMPLH_female.pkl\n",
      "│      SMPLH_male.pkl\n",
      "│      \n",
      "└─smplx\n",
      "        SMPLX_FEMALE.pkl\n",
      "        SMPLX_MALE.pkl\n",
      "        SMPLX_NEUTRAL.pkl\n",
      "        \n"
     ]
    }
   ],
   "source": [
    "! tree ./models /F"
   ],
   "metadata": {
    "collapsed": false
   }
  },
  {
   "cell_type": "markdown",
   "source": [
    "## Import the packages\n",
    "\n",
    "We will need:\n",
    "- `torch`: to conduct matrix operations,\n",
    "- `pickle`: to load the SMPL-family models."
   ],
   "metadata": {
    "collapsed": false
   }
  },
  {
   "cell_type": "code",
   "execution_count": 2,
   "outputs": [],
   "source": [
    "import torch\n",
    "import pickle"
   ],
   "metadata": {
    "collapsed": false
   }
  },
  {
   "cell_type": "markdown",
   "source": [
    "## Load the model\n",
    "\n",
    "Here we choose `smplx/SMPLX_NEUTRAL.pkl` as an example. The model is loaded as a dictionary, with the following keys:"
   ],
   "metadata": {
    "collapsed": false
   }
  },
  {
   "cell_type": "code",
   "execution_count": 3,
   "outputs": [
    {
     "name": "stdout",
     "output_type": "stream",
     "text": [
      "dict_keys(['dynamic_lmk_bary_coords', 'hands_componentsl', 'ft', 'lmk_faces_idx', 'f', 'J_regressor', 'hands_componentsr', 'kintree_table', 'hands_coeffsr', 'joint2num', 'hands_meanl', 'lmk_bary_coords', 'weights', 'posedirs', 'dynamic_lmk_faces_idx', 'part2num', 'vt', 'hands_meanr', 'hands_coeffsl', 'v_template', 'shapedirs'])\n"
     ]
    }
   ],
   "source": [
    "with open('./models/smplx/SMPLX_NEUTRAL.pkl', 'rb') as f:\n",
    "    smplx_neutral = pickle.load(f, encoding='latin1')\n",
    "print(smplx_neutral.keys())"
   ],
   "metadata": {
    "collapsed": false
   }
  },
  {
   "cell_type": "markdown",
   "source": [
    "The parameter is stored in `np.ndarray` format, so we need to convert it to `torch.Tensor` for further operations."
   ],
   "metadata": {
    "collapsed": false
   }
  },
  {
   "cell_type": "code",
   "execution_count": 4,
   "outputs": [],
   "source": [
    "import numpy as np\n",
    "for key, value in smplx_neutral.items():\n",
    "    if isinstance(value, np.ndarray):\n",
    "        if key in ['joint2num', 'part2num']:\n",
    "            continue\n",
    "        elif key in ['ft', 'f']:\n",
    "            value = value.astype(np.int64)\n",
    "        smplx_neutral[key] = torch.from_numpy(value)"
   ],
   "metadata": {
    "collapsed": false
   }
  },
  {
   "cell_type": "markdown",
   "source": [
    "For convenience, we define a function to load the model, as:\n",
    "```python\n",
    "from utils import load_pkl\n",
    "smplx_neutral = load_pkl('./models/smplx/SMPLX_NEUTRAL.pkl', to_torch=True)\n",
    "```"
   ],
   "metadata": {
    "collapsed": false
   }
  },
  {
   "cell_type": "markdown",
   "source": [
    "## Visualize the model\n",
    "\n",
    "To visualize the model, we save the model as `.obj` file, which is consist of a list of vertices and faces."
   ],
   "metadata": {
    "collapsed": false
   }
  },
  {
   "cell_type": "code",
   "execution_count": 5,
   "outputs": [
    {
     "data": {
      "text/plain": "(torch.Size([10475, 3]), torch.Size([20908, 3]))"
     },
     "execution_count": 5,
     "metadata": {},
     "output_type": "execute_result"
    }
   ],
   "source": [
    "smplx_neutral['v_template'].shape, smplx_neutral['f'].shape"
   ],
   "metadata": {
    "collapsed": false
   }
  },
  {
   "cell_type": "markdown",
   "source": [
    "SMPL-X mesh contains 10475 vertices and 20950 faces. Now we save the model as `.obj` file."
   ],
   "metadata": {
    "collapsed": false
   }
  },
  {
   "cell_type": "code",
   "execution_count": 6,
   "outputs": [],
   "source": [
    "with open('obj/smplx_neutral.obj', 'w') as f:\n",
    "    for v in smplx_neutral['v_template']:\n",
    "        f.write(f'v {v[0]} {v[1]} {v[2]}\\n')\n",
    "    for face in smplx_neutral['f']:\n",
    "        f.write(f'f {face[0]+1} {face[1]+1} {face[2]+1}\\n')"
   ],
   "metadata": {
    "collapsed": false
   }
  },
  {
   "cell_type": "markdown",
   "source": [
    "Now we can visualize the model in [MeshLab](https://www.meshlab.net/).\n",
    "\n",
    "For convenience, we define a function to save the model as `.obj` file, as:\n",
    "```python\n",
    "from utils import write_obj\n",
    "write_obj(smplx_neutral['v_template'], smplx_neutral['f'], 'obj/smplx_neutral.obj')\n",
    "```\n",
    "and its reverse function:\n",
    "```python\n",
    "from utils import load_obj\n",
    "vertices, faces = load_obj(file_name='obj/smplx_neutral.obj')\n",
    "```"
   ],
   "metadata": {
    "collapsed": false
   }
  },
  {
   "cell_type": "code",
   "execution_count": null,
   "outputs": [],
   "source": [],
   "metadata": {
    "collapsed": false
   }
  }
 ],
 "metadata": {
  "kernelspec": {
   "display_name": "Python 3",
   "language": "python",
   "name": "python3"
  },
  "language_info": {
   "codemirror_mode": {
    "name": "ipython",
    "version": 2
   },
   "file_extension": ".py",
   "mimetype": "text/x-python",
   "name": "python",
   "nbconvert_exporter": "python",
   "pygments_lexer": "ipython2",
   "version": "2.7.6"
  }
 },
 "nbformat": 4,
 "nbformat_minor": 0
}
